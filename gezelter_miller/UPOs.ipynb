{
 "cells": [
  {
   "cell_type": "code",
   "execution_count": null,
   "metadata": {},
   "outputs": [],
   "source": [
    "import numpy as np\n",
    "import matplotlib.pyplot as plt\n",
    "from scipy.integrate import solve_ivp\n",
    "import time\n",
    "\n",
    "import uposham.differential_correction as diffcorr\n",
    "\n",
    "import matplotlib as mpl\n",
    "from matplotlib import cm\n",
    "mpl.rcParams['mathtext.fontset'] = 'cm'\n",
    "mpl.rcParams['mathtext.rm'] = 'serif'\n",
    "mpl.rcParams['axes.labelsize'] = 25\n",
    "mpl.rcParams['font.size'] = 10"
   ]
  },
  {
   "cell_type": "code",
   "execution_count": null,
   "metadata": {},
   "outputs": [],
   "source": [
    "plt.style.use('seaborn')\n",
    "\n",
    "mpl.rcParams['mathtext.fontset'] = 'cm'\n",
    "mpl.rcParams['mathtext.rm'] = 'serif'\n",
    "plt.style.use('seaborn-white')\n",
    "\n",
    "tick_labelsize = 10\n",
    "axes_labelsize = 25\n",
    "mpl.rcParams['xtick.labelsize'] = tick_labelsize\n",
    "mpl.rcParams['ytick.labelsize'] = tick_labelsize\n",
    "mpl.rcParams['axes.labelsize'] = axes_labelsize\n",
    "mpl.rcParams['font.size'] = 20\n",
    "\n",
    "output_filename = 'UPOs/'"
   ]
  },
  {
   "cell_type": "code",
   "execution_count": null,
   "metadata": {},
   "outputs": [],
   "source": [
    "def potential_energy(x, y, params_pe):\n",
    "    k, d, a2, a4, a6, c, d0 = params_pe\n",
    "    \n",
    "    return a2*x**2 + a4*x**4 + a6*x**6 + c*x**2*np.exp(-d*x**2) + .5*k*(y+d0*x**4/k)**2\n",
    "\n",
    "def total_energy(states, masses, params_pe):\n",
    "    x, y, px, py = states\n",
    "    mx, my = masses\n",
    "    \n",
    "    return potential_energy(x, y, params_pe) + px**2/(2*mx) + py**2/(2*my)\n",
    "\n",
    "def vector_field(t, states, *parameters):\n",
    "    x, y, px, py = states\n",
    "    mx, my, k, d, a2, a4, a6, c, d0 = parameters\n",
    "    \n",
    "    xdot = px/mx\n",
    "    ydot = py/my\n",
    "    pxdot = -2*a2*x - 4*a4*x**3 - 6*a6*x**5 + 2*c*x*np.exp(-d*x**2)*(d*x**2-1) - 4*d0*x**3*(y+d0*x**4/k)\n",
    "    pydot = -k*(y+d0*x**4/k)\n",
    "    \n",
    "    return xdot, ydot, pxdot, pydot"
   ]
  }
 ],
 "metadata": {
  "kernelspec": {
   "display_name": "Python 3",
   "language": "python",
   "name": "python3"
  },
  "language_info": {
   "codemirror_mode": {
    "name": "ipython",
    "version": 3
   },
   "file_extension": ".py",
   "mimetype": "text/x-python",
   "name": "python",
   "nbconvert_exporter": "python",
   "pygments_lexer": "ipython3",
   "version": "3.7.6"
  }
 },
 "nbformat": 4,
 "nbformat_minor": 4
}
